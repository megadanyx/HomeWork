{
 "cells": [
  {
   "cell_type": "code",
   "execution_count": 14,
   "metadata": {},
   "outputs": [],
   "source": [
    "\n",
    "\n",
    "class DoubtNeuron:\n",
    "    def __init__(self):\n",
    "        #            w0  w1\n",
    "        self.weights = [0, 0, 0, 0]\n",
    "        self.bias    = 0\n",
    "\n",
    "\n",
    "    def activation(self, x):\n",
    "        e = 2.72\n",
    "        return 1 / (1 + e ** -x)\n",
    "\n",
    "    def forward(self, X):\n",
    "        y = self.weights[0] * X[0] + self.weights[1] * X[1] + self.weights[2] * X[2] + self.weights[3] * X[3] + self.bias\n",
    "        y = self.activation(y)\n",
    "        return y\n",
    "\n",
    "    def __str__(self):\n",
    "        return f\"{self.weights[0]:12.6f} * X0 +  {self.weights[1]:12.6f} * X1 + {self.weights[2]:12.6f} * X2 + {self.weights[3]:12.6f} * X3 + {self.bias:12.6f}\" \n",
    "\n",
    "\n",
    "# HELPER FUNCTION\n",
    "\n",
    "def loss(y,yp):\n",
    "    return y -yp"
   ]
  },
  {
   "cell_type": "markdown",
   "metadata": {},
   "source": [
    "### Training\n"
   ]
  },
  {
   "cell_type": "code",
   "execution_count": 15,
   "metadata": {},
   "outputs": [],
   "source": [
    "data_set_X = [\n",
    "    [0,0],\n",
    "    [0,1],\n",
    "    [1,0],\n",
    "    [1,1],\n",
    "]\n",
    "data_set_x_one_hot = [\n",
    "    [1,0,0,0],\n",
    "    [0,1,0,0],\n",
    "    [0,0,1,0],\n",
    "    [0,0,0,1],\n",
    "]\n",
    "\n",
    "data_set_Y = [\n",
    "    0,   \n",
    "    1,   \n",
    "    1,   \n",
    "    0,   \n",
    "]"
   ]
  },
  {
   "cell_type": "markdown",
   "metadata": {},
   "source": [
    "### Training Neuron\n"
   ]
  },
  {
   "cell_type": "code",
   "execution_count": 21,
   "metadata": {},
   "outputs": [
    {
     "name": "stdout",
     "output_type": "stream",
     "text": [
      "epoch:     0 done!\n",
      "epoch:   100 done!\n",
      "epoch:   200 done!\n",
      "epoch:   300 done!\n",
      "epoch:   400 done!\n",
      "epoch:   500 done!\n",
      "epoch:   600 done!\n",
      "epoch:   700 done!\n",
      "epoch:   800 done!\n",
      "epoch:   900 done!\n",
      "epoch:  1000 done!\n",
      "epoch:  1100 done!\n",
      "epoch:  1200 done!\n",
      "epoch:  1300 done!\n",
      "epoch:  1400 done!\n",
      "epoch:  1500 done!\n",
      "epoch:  1600 done!\n",
      "epoch:  1700 done!\n",
      "epoch:  1800 done!\n",
      "epoch:  1900 done!\n",
      "epoch:  2000 done!\n",
      "   -2.896071 * X0 +      2.897253 * X1 +     2.896071 * X2 +    -2.897253 * X3 +     0.000000\n"
     ]
    }
   ],
   "source": [
    "\n",
    "lr = 0.01\n",
    "\n",
    "model = DoubtNeuron()\n",
    "\n",
    "for epoch in range(2001):\n",
    "    for i in range(4):\n",
    "        xt = data_set_x_one_hot[i]\n",
    "        yt = data_set_Y[i]\n",
    "\n",
    "        yp = model.forward(xt)\n",
    "\n",
    "        e = loss(yt,yp)\n",
    "\n",
    "        dBias = lr * e\n",
    "        dWeight0 = lr * e * xt[0]\n",
    "        dWeight1 = lr * e * xt[1]\n",
    "        dWeight2 = lr * e * xt[2]\n",
    "        dWeight3 = lr * e * xt[3]\n",
    "\n",
    "        model.bias += dBias\n",
    "        model.weights[0] += dWeight0\n",
    "        model.weights[1] += dWeight1\n",
    "        model.weights[2] += dWeight2\n",
    "        model.weights[3] += dWeight3\n",
    "\n",
    "    if epoch % 100 == 0:\n",
    "        print(f\"epoch: {epoch:5} done!\")\n",
    "\n",
    "print(model)\n",
    "\n",
    "\n",
    "\n",
    "\n",
    "\n",
    "\n"
   ]
  },
  {
   "cell_type": "code",
   "execution_count": 23,
   "metadata": {},
   "outputs": [
    {
     "name": "stdout",
     "output_type": "stream",
     "text": [
      "0: [1, 0, 0, 0]  --->     0.052257\n",
      "1: [0, 1, 0, 0]  --->     0.947801\n",
      "1: [0, 0, 1, 0]  --->     0.947743\n",
      "0: [0, 0, 0, 1]  --->     0.052199\n"
     ]
    }
   ],
   "source": [
    "# TEsting \n",
    "for i in range(4):\n",
    "    xt = data_set_x_one_hot[i]\n",
    "    yp = model.forward(xt)\n",
    "\n",
    "    print(f\"{data_set_Y[i]}: {xt}  ---> {yp:12.6f}\")"
   ]
  }
 ],
 "metadata": {
  "kernelspec": {
   "display_name": "Python 3.10.4 64-bit",
   "language": "python",
   "name": "python3"
  },
  "language_info": {
   "codemirror_mode": {
    "name": "ipython",
    "version": 3
   },
   "file_extension": ".py",
   "mimetype": "text/x-python",
   "name": "python",
   "nbconvert_exporter": "python",
   "pygments_lexer": "ipython3",
   "version": "3.10.4"
  },
  "orig_nbformat": 4,
  "vscode": {
   "interpreter": {
    "hash": "90528ac9f84e6e59cadb7d09fb5449f76510f62cd5a4c7477374219f96764f55"
   }
  }
 },
 "nbformat": 4,
 "nbformat_minor": 2
}
