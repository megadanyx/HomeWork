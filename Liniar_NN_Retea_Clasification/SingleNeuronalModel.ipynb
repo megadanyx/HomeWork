{
 "cells": [
  {
   "cell_type": "markdown",
   "metadata": {},
   "source": [
    "### Training Data\n",
    "\n"
   ]
  },
  {
   "cell_type": "code",
   "execution_count": 38,
   "metadata": {},
   "outputs": [],
   "source": [
    "Xtrain = [\n",
    "    [  # +\n",
    "        [5, -1, 0],\n",
    "        [2, 0, -5],\n",
    "        [1, 1, -5],\n",
    "    ],\n",
    "    [  # -\n",
    "        [-1, 2, 1],\n",
    "        [0, -0, 5],\n",
    "        [-5, 2, 3],\n",
    "    ],\n",
    "    [  # -\n",
    "        [-2, 0, 1],\n",
    "        [-1, -4, 2],\n",
    "        [-4, 2, 3],\n",
    "    ],\n",
    "    [  # -\n",
    "        [-3, 2, 1],\n",
    "        [0, -1, 3],\n",
    "        [-3, 2, 0],\n",
    "    ],\n",
    "    [  # -\n",
    "        [-4, 2, 1],\n",
    "        [2, -0, 2],\n",
    "        [-1, 2, 3],\n",
    "    ],\n",
    "    [  # -\n",
    "        [-3, 2, 3],\n",
    "        [-5, -5, 2],\n",
    "        [0, -2, 1],\n",
    "    ],\n",
    "\n",
    "]\n",
    "\n",
    "Ytrain = [\n",
    "    1,\n",
    "    0,\n",
    "    0,\n",
    "    0,\n",
    "    0,\n",
    "    0,\n",
    "]\n",
    "\n",
    "\n",
    "\n"
   ]
  },
  {
   "cell_type": "markdown",
   "metadata": {},
   "source": [
    "### Testing Date "
   ]
  },
  {
   "cell_type": "code",
   "execution_count": 60,
   "metadata": {},
   "outputs": [],
   "source": [
    "Xtest = [\n",
    "    [  # +\n",
    "        [-1, 1, 0],\n",
    "        [0, 1, 1],\n",
    "        [0, 1, 0],\n",
    "    ],\n",
    "    [  # -\n",
    "        [2, 1, 1],\n",
    "        [2, 1, 1],\n",
    "        [5, 1, 1],\n",
    "    ],\n",
    "    [  # \\\n",
    "        [1, 1, 1],\n",
    "        [2, 1, 0],\n",
    "        [1, 1, 1],\n",
    "    ],\n",
    "       [  # +\n",
    "        [-5, -1, 0],\n",
    "        [0, 0, -5],\n",
    "        [1, 1, -5],\n",
    "    ],\n",
    "]\n",
    "Stest = [\n",
    "    \"=|-\",\n",
    "    \"#\",\n",
    "    \"T\"\n",
    "]\n",
    "\n",
    "Ytest = [\n",
    "    0,\n",
    "    0,\n",
    "    0,\n",
    "    0,\n",
    "]"
   ]
  },
  {
   "cell_type": "markdown",
   "metadata": {},
   "source": [
    "### Neuron Class "
   ]
  },
  {
   "cell_type": "code",
   "execution_count": 24,
   "metadata": {},
   "outputs": [],
   "source": [
    "##### Structure of Simple Liniar OOP Neuron ###########\n",
    "class LiniarNeuronDetect:\n",
    "    def __init__(self):\n",
    "        self.weights = [0 for i in range(9)]\n",
    "        self.bias = 0\n",
    "\n",
    "    def sigmoidActivation(self, x):\n",
    "        e = 2.718281828459045\n",
    "        return 1 / (1 + e ** -x)\n",
    "\n",
    "    def forward(self, X):\n",
    "        y = self.bias\n",
    "        for i in range(len(X)):\n",
    "            y += X[i] * self.weights[i]\n",
    "\n",
    "        y = self.sigmoidActivation(y)\n",
    "\n",
    "        return y\n",
    "\n",
    "    def __str__(self):\n",
    "        out = \"\"\n",
    "        \n",
    "        for i in range(9):\n",
    "            if i % 3 == 0:\n",
    "                out += \"\\n\" \n",
    "            out += f\"{self.weights[i]:10.5f}\"\n",
    "        out += \"\\n\\n\"\n",
    "        out += f\"{self.bias:10.5f}\"\n",
    "        \n",
    "        return out\n",
    "        \n",
    "\n",
    "\n",
    "def loss(Y, Yp):\n",
    "    return Y- Yp\n",
    "\n",
    "\n",
    "\n",
    "def reshapeMatrix(X):\n",
    "    Xt = []\n",
    "    for i in range(len(X)):\n",
    "        for j in range(len(X)):\n",
    "            Xt.append(X[i][j])\n",
    "    # print(Xt)\n",
    "    return Xt\n",
    "\n",
    "# reshapeMatrix(Xtrain[0])"
   ]
  },
  {
   "cell_type": "markdown",
   "metadata": {},
   "source": [
    "### Neuron Training"
   ]
  },
  {
   "cell_type": "code",
   "execution_count": 64,
   "metadata": {},
   "outputs": [
    {
     "name": "stdout",
     "output_type": "stream",
     "text": [
      "epoch: 3\n",
      "loss:    0.11749\n",
      "epoch: 9\n",
      "loss:    0.04417\n",
      "epoch: 11\n",
      "loss:    0.03655\n",
      "epoch: 33\n",
      "loss:    0.01275\n",
      "epoch: 99\n",
      "loss:    0.00440\n",
      "epoch: 101\n",
      "loss:    0.00432\n",
      "epoch: 303\n",
      "loss:    0.00148\n",
      "epoch: 909\n",
      "loss:    0.00051\n",
      "epoch: 1111\n",
      "loss:    0.00042\n",
      "epoch: 3333\n",
      "loss:    0.00014\n",
      "epoch: 9999\n",
      "loss:    0.00005\n"
     ]
    }
   ],
   "source": [
    "neuron = LiniarNeuronDetect()\n",
    "\n",
    "\n",
    "lr = 0.01\n",
    "\n",
    "for epoch in range(1,10000):  \n",
    "    errors = [] \n",
    "    for i in range (len(Xtrain)):\n",
    "        # FORWARD PASS\n",
    "        xt = Xtrain[i]\n",
    "        yt = Ytrain[i]\n",
    "        xt = reshapeMatrix(xt)\n",
    "        yp = neuron.forward(xt)\n",
    "\n",
    "        # ESTIMATE LOSS\n",
    "        e = loss(yt,yp)\n",
    "        errors.append(e)\n",
    "        # BACKPROPAGATION\n",
    "        dBias = lr * e \n",
    "        neuron.bias += dBias\n",
    "\n",
    "        for j in range(len(xt)):\n",
    "            dWeight = lr * e * xt[j]\n",
    "            neuron.weights[j] += dWeight \n",
    "\n",
    "    me = abs(sum(errors) / len(errors))  \n",
    "    if 10000 % epoch == 1:\n",
    "        print(f\"epoch: {epoch}\")\n",
    "        print(f\"loss: {me:10.5f}\")\n",
    "    # print(neuron)\n",
    "\n",
    "\n",
    "\n",
    "\n",
    "\n",
    "\n"
   ]
  },
  {
   "cell_type": "markdown",
   "metadata": {},
   "source": [
    "### Neuron Testing\n"
   ]
  },
  {
   "cell_type": "code",
   "execution_count": 65,
   "metadata": {},
   "outputs": [
    {
     "name": "stdout",
     "output_type": "stream",
     "text": [
      "loss:    0.00001  Yp:    0.99999\n",
      "loss:   -0.00001  Yp:    0.00001\n",
      "loss:   -0.00003  Yp:    0.00003\n",
      "loss:   -0.00009  Yp:    0.00009\n",
      "loss:   -0.00011  Yp:    0.00011\n",
      "loss:   -0.00006  Yp:    0.00006\n",
      "loss:   -0.10092  Yp:    0.10092\n",
      "loss:   -0.94058  Yp:    0.94058\n",
      "loss:   -0.58682  Yp:    0.58682\n",
      "loss:   -0.94376  Yp:    0.94376\n"
     ]
    }
   ],
   "source": [
    "X = Xtrain + Xtest\n",
    "Y = Ytrain + Ytest\n",
    "# S = Strain + Stest\n",
    "for i in  range(len(X)):\n",
    "    xt = X[i]\n",
    "    yt = Y[i]\n",
    "    xt = reshapeMatrix(xt)\n",
    "    yp = neuron.forward(xt)\n",
    "    e = loss(yt,yp)\n",
    "    print(f\"loss: {e: 10.5f}  Yp: {yp:10.5f}\")\n"
   ]
  }
 ],
 "metadata": {
  "kernelspec": {
   "display_name": "Python 3.10.4 64-bit",
   "language": "python",
   "name": "python3"
  },
  "language_info": {
   "codemirror_mode": {
    "name": "ipython",
    "version": 3
   },
   "file_extension": ".py",
   "mimetype": "text/x-python",
   "name": "python",
   "nbconvert_exporter": "python",
   "pygments_lexer": "ipython3",
   "version": "3.10.4"
  },
  "orig_nbformat": 4,
  "vscode": {
   "interpreter": {
    "hash": "90528ac9f84e6e59cadb7d09fb5449f76510f62cd5a4c7477374219f96764f55"
   }
  }
 },
 "nbformat": 4,
 "nbformat_minor": 2
}
